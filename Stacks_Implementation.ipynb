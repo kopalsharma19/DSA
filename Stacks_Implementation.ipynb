{
  "nbformat": 4,
  "nbformat_minor": 0,
  "metadata": {
    "colab": {
      "provenance": [],
      "include_colab_link": true
    },
    "kernelspec": {
      "name": "python3",
      "display_name": "Python 3"
    },
    "language_info": {
      "name": "python"
    }
  },
  "cells": [
    {
      "cell_type": "markdown",
      "metadata": {
        "id": "view-in-github",
        "colab_type": "text"
      },
      "source": [
        "<a href=\"https://colab.research.google.com/github/kopalsharma19/DSA/blob/main/Stacks_Implementation.ipynb\" target=\"_parent\"><img src=\"https://colab.research.google.com/assets/colab-badge.svg\" alt=\"Open In Colab\"/></a>"
      ]
    },
    {
      "cell_type": "markdown",
      "source": [
        "# **Implementation of Stacks using Array**"
      ],
      "metadata": {
        "id": "9-q6-pSiLxPN"
      }
    },
    {
      "cell_type": "code",
      "execution_count": null,
      "metadata": {
        "id": "CZ6oSr6ng2qG",
        "colab": {
          "base_uri": "https://localhost:8080/"
        },
        "outputId": "5aeebf9e-6b24-4375-8f94-bf328590fe58"
      },
      "outputs": [
        {
          "output_type": "stream",
          "name": "stdout",
          "text": [
            "10 pushed to stack\n",
            "5 pushed to stack\n",
            "30 pushed to stack\n",
            "30 is popped from stack\n"
          ]
        }
      ],
      "source": [
        "#Function to create a stack. \n",
        "def createstack():\n",
        "  stack = []\n",
        "  return stack\n",
        "\n",
        "#Function to check stack is empty or not \n",
        "def isEmpty(stack):\n",
        "  return len(stack)==0\n",
        "\n",
        "#Function to add an item to stack. \n",
        "def push(stack, item):\n",
        "  stack.append(item)\n",
        "  print(item + \" pushed to stack\")\n",
        "\n",
        "#Function to remove an item from stack. \n",
        "def pop(stack):\n",
        "  if(isEmpty(stack)):\n",
        "    return \"stack underflowed\"\n",
        "  return stack.pop()\n",
        "\n",
        "def peek(stack):\n",
        "  if(isEmpty(stack)):\n",
        "    return \"stack is empty\"\n",
        "  return stack[:-1]\n",
        "\n",
        "stack = createstack()\n",
        "push(stack,\"10\")\n",
        "push(stack,\"5\")\n",
        "push(stack,\"30\")\n",
        "print(pop(stack)+ \" is popped from stack\")\n",
        "\n"
      ]
    },
    {
      "cell_type": "markdown",
      "source": [
        "# **Implementation of Stacks using Linked List**"
      ],
      "metadata": {
        "id": "O-NZwHw_kQ_R"
      }
    },
    {
      "cell_type": "code",
      "source": [
        "class stacknode:\n",
        "\n",
        "  #Constructor to initialize node\n",
        "  def __init__(self,data):\n",
        "    self.data = data\n",
        "    self.next = None\n",
        "\n",
        "\n",
        "class stack:\n",
        "\n",
        "  #Constructor to initialize the root of linked list\n",
        "  def __init__(self):\n",
        "    self.root = None\n",
        "\n",
        "  def isEmpty(self):\n",
        "    return True if self.root is None else False\n",
        "\n",
        "  def push(self, data):\n",
        "    newnode = stacknode(data)\n",
        "    newnode.next = self.root\n",
        "    self.root = newnode\n",
        "    print(str(data) + \" is pushed to stack\")\n",
        "\n",
        "  def pop(self):\n",
        "    if self.isEmpty():\n",
        "      return \"stack is empty\"\n",
        "    temp = self.root\n",
        "    self.root = self.root.next\n",
        "    return temp.data\n",
        "\n",
        "  def peek(self):\n",
        "    if self.isEmpty():\n",
        "      return \"stack is empty\"\n",
        "    return self.root.data\n",
        "\n",
        "stack = stack()\n",
        "stack.push(10)\n",
        "stack.push(5)\n",
        "stack.push(30)\n",
        "\n",
        "print(str(stack.pop()) +\" is popped from stack\")\n",
        "print(str(stack.peek()) + \" is the top element\")"
      ],
      "metadata": {
        "colab": {
          "base_uri": "https://localhost:8080/"
        },
        "id": "kp6tP9HskVa_",
        "outputId": "10843e22-f262-4b34-a3a9-d827b084f3f6"
      },
      "execution_count": null,
      "outputs": [
        {
          "output_type": "stream",
          "name": "stdout",
          "text": [
            "10 is pushed to stack\n",
            "5 is pushed to stack\n",
            "30 is pushed to stack\n",
            "30 is popped from stack\n",
            "5 is the top element\n"
          ]
        }
      ]
    }
  ]
}